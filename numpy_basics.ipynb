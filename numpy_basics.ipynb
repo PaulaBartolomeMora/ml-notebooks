{
 "cells": [
  {
   "cell_type": "markdown",
   "metadata": {},
   "source": [
    "# Numpy básico"
   ]
  },
  {
   "cell_type": "code",
   "execution_count": 46,
   "metadata": {},
   "outputs": [
    {
     "name": "stdout",
     "output_type": "stream",
     "text": [
      "[[1 2 3]\n",
      " [4 5 6]]\n",
      "[[1. 2. 3.]\n",
      " [4. 5. 6.]]\n",
      "[[0. 0.]\n",
      " [0. 0.]]\n",
      "[[1. 1.]\n",
      " [1. 1.]]\n",
      "[[1. 0.]\n",
      " [0. 1.]]\n",
      "[[3 3]\n",
      " [3 3]]\n"
     ]
    }
   ],
   "source": [
    "import numpy as np\n",
    "\n",
    "#creación array\n",
    "array = np.array([[1,2,3],[4,5,6]])\n",
    "print(array)\n",
    "\n",
    "#creación array con elementos tipo float\n",
    "array_float = np.array([[1,2,3],[4,5,6]], dtype=np.float64)\n",
    "print(array_float)\n",
    "\n",
    "#creación array de ceros\n",
    "array_zeros = np.zeros((2,2))\n",
    "print(array_zeros)\n",
    "\n",
    "#creación array de unos\n",
    "array_ones = np.ones((2,2))\n",
    "print(array_ones)\n",
    "\n",
    "#creación array con diagonal de unos\n",
    "array_diag = np.eye(2,2)\n",
    "print(array_diag)\n",
    "\n",
    "#creación array relleno con un valor\n",
    "array_full = np.full((2,2), 3)\n",
    "print(array_full)\n"
   ]
  },
  {
   "cell_type": "code",
   "execution_count": 47,
   "metadata": {},
   "outputs": [
    {
     "name": "stdout",
     "output_type": "stream",
     "text": [
      "[[11 12 13]\n",
      " [21 22 23]\n",
      " [31 32 33]\n",
      " [41 42 43]]\n",
      "[[False False False]\n",
      " [ True  True  True]\n",
      " [ True  True  True]\n",
      " [ True  True  True]]\n"
     ]
    },
    {
     "data": {
      "text/plain": [
       "True"
      ]
     },
     "execution_count": 47,
     "metadata": {},
     "output_type": "execute_result"
    }
   ],
   "source": [
    "\n",
    "array_filtrar = np.array([[11,12,13],[21,22,23],[31,32,33],[41,42,43]])\n",
    "print(array_filtrar)\n",
    "\n",
    "#se filtra y se crea un nuevo array booleano\n",
    "filtro = (array_filtrar > 15)\n",
    "print(filtro)\n",
    "\n",
    "#si se cumple se pone A y si no, B\n",
    "np.where(array_filtrar>15, 'A', 'B')\n",
    "\n",
    "#indica true si algún valor es distinto de 0, si está \"vacío\" es false\n",
    "array_zeros.any()\n",
    "\n",
    "#indica true si no hay ningún elemento = 0\n",
    "array_filtrar.all()"
   ]
  },
  {
   "cell_type": "code",
   "execution_count": 48,
   "metadata": {},
   "outputs": [
    {
     "name": "stdout",
     "output_type": "stream",
     "text": [
      "[[12 13]\n",
      " [22 23]]\n"
     ]
    },
    {
     "data": {
      "text/plain": [
       "array([[0., 0.],\n",
       "       [0., 0.],\n",
       "       [1., 1.],\n",
       "       [1., 1.]])"
      ]
     },
     "execution_count": 48,
     "metadata": {},
     "output_type": "execute_result"
    }
   ],
   "source": [
    "#división de array, filas 0-1 y cols 1-2, [inicio, final)\n",
    "slice = array_filtrar[0:2,1:3] \n",
    "print(slice)\n",
    "\n",
    "#redefinición de un slice, no se modifica el original\n",
    "slice2 = np.array(slice)\n",
    "\n",
    "#concatenar arrays (axis=0 cols, axis=1 filas)\n",
    "np.concatenate([array_zeros,array_ones], axis=0)\n"
   ]
  },
  {
   "cell_type": "code",
   "execution_count": 49,
   "metadata": {},
   "outputs": [
    {
     "name": "stdout",
     "output_type": "stream",
     "text": [
      "-0.19018142149971815\n",
      "[-0.46510141  0.08473857]\n",
      "[1 2 3 4 5 6 7]\n"
     ]
    }
   ],
   "source": [
    "#creación de array aleatorio\n",
    "array_random = np.random.randn(2,5)\n",
    "\n",
    "#cálculo de media\n",
    "print(array_random.mean())\n",
    "\n",
    "#cálculo de media de cada fila (axis=0 cols, axis=1 filas)\n",
    "print(array_random.mean(axis=1))\n",
    "\n",
    "#orden menor a mayor\n",
    "array_random.sort()\n",
    "\n",
    "#obtener array con elementos únicos a partir de otro array\n",
    "array_unique = np.array([1,2,4,1,6,3,2,7,2,1,3,4,1,2,4,5,2,5,3,6,4])\n",
    "print(np.unique(array_unique))\n"
   ]
  },
  {
   "cell_type": "code",
   "execution_count": 50,
   "metadata": {},
   "outputs": [
    {
     "name": "stdout",
     "output_type": "stream",
     "text": [
      "[3]\n",
      "[1 2 3 4 5]\n",
      "[1 2]\n"
     ]
    }
   ],
   "source": [
    "serie1 = np.array([1,2,3])\n",
    "serie2 = np.array([3,4,5])\n",
    "\n",
    "#intersección y unión de elementos\n",
    "print(np.intersect1d(serie1,serie2))\n",
    "print(np.union1d(serie1,serie2))\n",
    "\n",
    "#está en serie 1 pero no en serie 2\n",
    "print(np.setdiff1d(serie1,serie2))"
   ]
  },
  {
   "cell_type": "code",
   "execution_count": 51,
   "metadata": {},
   "outputs": [
    {
     "name": "stdout",
     "output_type": "stream",
     "text": [
      "[[1. 2. 3. 4. 5.]\n",
      " [1. 2. 3. 4. 5.]\n",
      " [1. 2. 3. 4. 5.]\n",
      " [1. 2. 3. 4. 5.]\n",
      " [1. 2. 3. 4. 5.]]\n"
     ]
    }
   ],
   "source": [
    "#propagación de un array (a partir de una fila se crea un array)\n",
    "base = np.zeros((5,5)) #dimensiones\n",
    "fila = np.array([1,2,3,4,5]) #fila\n",
    "\n",
    "base = base + fila\n",
    "print(base)"
   ]
  }
 ],
 "metadata": {
  "kernelspec": {
   "display_name": "base",
   "language": "python",
   "name": "python3"
  },
  "language_info": {
   "codemirror_mode": {
    "name": "ipython",
    "version": 3
   },
   "file_extension": ".py",
   "mimetype": "text/x-python",
   "name": "python",
   "nbconvert_exporter": "python",
   "pygments_lexer": "ipython3",
   "version": "3.11.4"
  },
  "orig_nbformat": 4
 },
 "nbformat": 4,
 "nbformat_minor": 2
}
